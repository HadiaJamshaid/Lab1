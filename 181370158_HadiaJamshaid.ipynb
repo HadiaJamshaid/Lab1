{
 "cells": [
  {
   "cell_type": "code",
   "execution_count": 1,
   "id": "515b71e8",
   "metadata": {},
   "outputs": [
    {
     "name": "stdout",
     "output_type": "stream",
     "text": [
      "Enter Amount : 100\n",
      "total purchase amount is :  100\n",
      "the state sale tax: 5.0\n",
      "the county Tax :  2.5\n",
      "Total sale tax is :  7.5\n",
      "total sale is :  107.5\n"
     ]
    }
   ],
   "source": [
    "purchaseAmount=int(input(\"Enter Amount : \"))\n",
    "saleTax = (5/100)*purchaseAmount\n",
    "countyTax = (2.5/100)*purchaseAmount\n",
    "totalSaleTax = saleTax+countyTax\n",
    "totalSale = purchaseAmount+totalSaleTax\n",
    "print(\"total purchase amount is : \" ,purchaseAmount)\n",
    "print(\"the state sale tax:\",saleTax)\n",
    "print(\"the county Tax : \", countyTax)\n",
    "print(\"Total sale tax is : \",totalSaleTax)\n",
    "print(\"total sale is : \",totalSale)"
   ]
  },
  {
   "cell_type": "code",
   "execution_count": 3,
   "id": "c6a5508d",
   "metadata": {},
   "outputs": [
    {
     "name": "stdout",
     "output_type": "stream",
     "text": [
      "enter the food price : 100\n",
      "food price is :  100\n",
      "tip is :  18.0\n",
      "sale tax is :  7.000000000000001\n",
      "total amount is : 125.0\n"
     ]
    }
   ],
   "source": [
    "foodPrice = int(input(\"enter the food price : \"))\n",
    "tip = (18/100)*foodPrice\n",
    "saleTax = (7/100)*foodPrice\n",
    "print(\"food price is : \", foodPrice)\n",
    "print(\"tip is : \" ,tip)\n",
    "print(\"sale tax is : \" ,saleTax)\n",
    "print(\"total amount is :\" ,foodPrice+tip+saleTax)"
   ]
  },
  {
   "cell_type": "code",
   "execution_count": 4,
   "id": "41bb6e21",
   "metadata": {},
   "outputs": [
    {
     "name": "stdout",
     "output_type": "stream",
     "text": [
      "enter number of cookies you want to bake : 48\n",
      "number of cup of suger:  1.5\n",
      "number of cup of buter:  1.0\n",
      "number of cup of flour:  2.75\n"
     ]
    }
   ],
   "source": [
    "sugerCup1 = 1.5/48\n",
    "butterCup1= 1/48\n",
    "flourCup1 = 2.75/48\n",
    "NmbOfCookies = int(input(\"enter number of cookies you want to bake : \"))\n",
    "print(\"number of cup of suger: \",NmbOfCookies*sugerCup1)\n",
    "print(\"number of cup of buter: \",NmbOfCookies*butterCup1)\n",
    "print(\"number of cup of flour: \",NmbOfCookies*flourCup1)"
   ]
  },
  {
   "cell_type": "code",
   "execution_count": 5,
   "id": "b4da0b0e",
   "metadata": {},
   "outputs": [
    {
     "name": "stdout",
     "output_type": "stream",
     "text": [
      "enter number of girls students : 25\n",
      "enter number of boys students : 25\n",
      "girls percentags is :  50.0\n",
      "boys percentage is :  50.0\n"
     ]
    }
   ],
   "source": [
    "girlsNumOfStudents = int(input(\"enter number of girls students : \"))\n",
    "boysNumOfStudents = int(input(\"enter number of boys students : \"))\n",
    "totalStudents = girlsNumOfStudents+boysNumOfStudents\n",
    "girlsPercentage = (girlsNumOfStudents/totalStudents)*100\n",
    "boysPercentage = (boysNumOfStudents/totalStudents)*100\n",
    "print(\"girls percentags is : \",girlsPercentage)\n",
    "print(\"boys percentage is : \",boysPercentage)"
   ]
  },
  {
   "cell_type": "code",
   "execution_count": 6,
   "id": "03b8d345",
   "metadata": {},
   "outputs": [
    {
     "name": "stdout",
     "output_type": "stream",
     "text": [
      "Goes to profit As value we got  positive value :  5350.0\n"
     ]
    }
   ],
   "source": [
    "purchase =20000*40\n",
    "purchaseDealer =(3/100)*purchase\n",
    "totalPurchase = purchase+purchaseDealer\n",
    "sale = 20000*42.75\n",
    "saleDealer = (3/100)*sale\n",
    "totalsale = sale-saleDealer\n",
    "print(\"Goes to profit As value we got  positive value : \",totalsale-totalPurchase)"
   ]
  },
  {
   "cell_type": "code",
   "execution_count": null,
   "id": "d68671ca",
   "metadata": {},
   "outputs": [],
   "source": []
  }
 ],
 "metadata": {
  "kernelspec": {
   "display_name": "Python 3",
   "language": "python",
   "name": "python3"
  },
  "language_info": {
   "codemirror_mode": {
    "name": "ipython",
    "version": 3
   },
   "file_extension": ".py",
   "mimetype": "text/x-python",
   "name": "python",
   "nbconvert_exporter": "python",
   "pygments_lexer": "ipython3",
   "version": "3.8.8"
  }
 },
 "nbformat": 4,
 "nbformat_minor": 5
}
